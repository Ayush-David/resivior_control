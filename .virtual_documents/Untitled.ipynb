pip install openpyxl


import pandas as pd

# Define the file paths
input_file = "2000-2022-Formatted.xlsx"  # Replace with your input Excel file
output_file = "output_filled.csv"  # The file to save the updated data

try:
    # Read the Excel file
    df = pd.read_excel(input_file, engine="openpyxl")  # Ensure the openpyxl library is installed

    # Drop the last column
    df = df.iloc[:, :-1]
    
    # Fill missing values with 0
    df.fillna(0, inplace=True)
    
    # Save the updated data to a new CSV file
    df.to_csv(output_file, index=False, sep="\t")

    print(f"Last column dropped, missing values filled, and saved to {output_file}.")
    
except Exception as e:
    print(f"An error occurred: {e}")




