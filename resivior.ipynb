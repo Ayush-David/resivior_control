{
 "cells": [
  {
   "cell_type": "code",
   "execution_count": 7,
   "id": "06436fae-2f61-4b6b-9379-7d9dee9c1dfb",
   "metadata": {},
   "outputs": [
    {
     "name": "stdout",
     "output_type": "stream",
     "text": [
      "Requirement already satisfied: openpyxl in /home/urk23cs5020/anaconda3/lib/python3.12/site-packages (3.1.5)\n",
      "Requirement already satisfied: et-xmlfile in /home/urk23cs5020/anaconda3/lib/python3.12/site-packages (from openpyxl) (1.1.0)\n",
      "Note: you may need to restart the kernel to use updated packages.\n"
     ]
    }
   ],
   "source": [
    "pip install openpyxl"
   ]
  },
  {
   "cell_type": "code",
   "execution_count": 9,
   "id": "f0fc2730-bcc8-4056-af91-2a5b314f2794",
   "metadata": {},
   "outputs": [
    {
     "name": "stdout",
     "output_type": "stream",
     "text": [
      "Last column dropped, missing values filled, and saved to output_filled.csv.\n"
     ]
    }
   ],
   "source": [
    "import pandas as pd\n",
    "input_file = \"2000-2022-Formatted.xlsx\" \n",
    "output_file = \"output_filled.csv\"\n",
    "try:\n",
    "\n",
    "    df = pd.read_excel(input_file, engine=\"openpyxl\")  # Ensure the openpyxl library is installed\n",
    "\n",
    "    df = df.iloc[:, :-1]\n",
    "    \n",
    "    # Fill missing values with 0\n",
    "    df.fillna(0, inplace=True)\n",
    "    \n",
    "    # Save the updated data to a new CSV file\n",
    "    df.to_csv(output_file, index=False, sep=\"\\t\")\n",
    "\n",
    "    print(f\"Last column dropped, missing values filled, and saved to {output_file}.\")\n",
    "    \n",
    "except Exception as e:\n",
    "    print(f\"An error occurred: {e}\")\n"
   ]
  },
  {
   "cell_type": "code",
   "execution_count": null,
   "id": "bc63751b-488d-4924-8989-c4d709780635",
   "metadata": {},
   "outputs": [],
   "source": []
  }
 ],
 "metadata": {
  "kernelspec": {
   "display_name": "Python 3 (ipykernel)",
   "language": "python",
   "name": "python3"
  },
  "language_info": {
   "codemirror_mode": {
    "name": "ipython",
    "version": 3
   },
   "file_extension": ".py",
   "mimetype": "text/x-python",
   "name": "python",
   "nbconvert_exporter": "python",
   "pygments_lexer": "ipython3",
   "version": "3.12.2"
  }
 },
 "nbformat": 4,
 "nbformat_minor": 5
}
